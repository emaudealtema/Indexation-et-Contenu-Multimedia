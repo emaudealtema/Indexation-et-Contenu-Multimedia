{
 "cells": [
  {
   "cell_type": "markdown",
   "metadata": {},
   "source": [
    "# Emaude Altema P24 SIM IFI"
   ]
  },
  {
   "cell_type": "code",
   "execution_count": 1,
   "metadata": {},
   "outputs": [],
   "source": [
    "#Importation des libraries necessaires pour le travail.\n",
    "import cv2 as cv2\n",
    "import numpy as np\n",
    "import imutils\n",
    "import matplotlib.pyplot as plt\n",
    "import os\n",
    "from scipy.spatial import distance\n",
    "from IPython.display import Markdown, display\n",
    "import pandas as pd"
   ]
  },
  {
   "cell_type": "code",
   "execution_count": 2,
   "metadata": {},
   "outputs": [],
   "source": [
    "from sklearn.neighbors import KDTree\n",
    "from sklearn.cluster import KMeans"
   ]
  },
  {
   "cell_type": "code",
   "execution_count": 13,
   "metadata": {},
   "outputs": [],
   "source": [
    "from binarytree import tree, Node\n",
    "from math import floor\n",
    "\n",
    "from lshashpy3 import LSHash"
   ]
  },
  {
   "cell_type": "code",
   "execution_count": 4,
   "metadata": {},
   "outputs": [],
   "source": [
    "def calcul_descripteurs(image_path, image_name):\n",
    "    image = cv2.imread(os.path.join(image_path, image_name)) #pour lire chaque image de la base\n",
    "\n",
    "    # division des couleurs de l'image en l'espace (BGR) \n",
    "    BGR_layers = cv2.split(image)\n",
    "\n",
    "    # creation de l'Histogramme de chaque du dataset\n",
    "    B_hist = cv2.calcHist(BGR_layers, [0], None, [32], (0, 256), accumulate=False)\n",
    "    G_hist = cv2.calcHist(BGR_layers, [1], None, [32], (0, 256), accumulate=False)\n",
    "    R_hist = cv2.calcHist(BGR_layers, [2], None, [32], (0, 256), accumulate=False)\n",
    "    histogramme = np.concatenate((B_hist, G_hist, R_hist), axis=None)\n",
    "\n",
    "    # Moments de Hu pour decrire la forme de chaque image\n",
    "    image = cv2.cvtColor(image, cv2.COLOR_BGR2GRAY)\n",
    "    hu_moment = cv2.HuMoments(cv2.moments(image))\n",
    "    hu_moment = hu_moment.flatten()\n",
    "    \n",
    "    return histogramme, hu_moment\n",
    "route = ('C:/Users/Administrator/TP2_SIFT/coil-100')"
   ]
  },
  {
   "cell_type": "code",
   "execution_count": 5,
   "metadata": {},
   "outputs": [],
   "source": [
    "# Lecture des images stockés sur le disque dur, calculer leurs histogrammes et leurs moment de Hu\n",
    "# ici je cree 3 tableau pour recevoir 1 pour recevoir les histogrammes, 2 pour recevoir la liste des moments de HU\n",
    "# et le 3eme pour contenir la liste des labels des images, \n",
    "\n",
    "liste_histogrammes = []\n",
    "liste_hu_moment = []\n",
    "label_images = []\n",
    "\n",
    "for img in [f for f in os.listdir('C:/Users/Administrator/TP2_SIFT/coil-100')]:#la boucle for pour parcourir toute la base d'image\n",
    "    if img.split('.')[1] == 'png': # pour verifier que c'est une image\n",
    "        histogramme,hu_moment  =calcul_descripteurs('C:/Users/Administrator/TP2_SIFT/coil-100', img)#j'appelle la fonction qui \n",
    "        # calcul de l'histogramme et le moment de hu de chaque image de  la base\n",
    "        liste_histogrammes.append(histogramme) # on sauvegarde chque hystogramme dans le tableau liste_histogrammes\n",
    "        liste_hu_moment.append(hu_moment)# on sauvegarde chaque moment de hu dans le table liste_hu_moment\n",
    "        label_images.append(img)  # Pour recuperer le nom de  chaque image de la base\n",
    "       \n",
    "        "
   ]
  },
  {
   "cell_type": "code",
   "execution_count": 6,
   "metadata": {},
   "outputs": [],
   "source": [
    "# Sauvegarde des caractéristiques telles que les histogrammes, les moment de HU et les noms de toutes les images\n",
    "np.save('liste_histogrammes.npy', np.array(liste_histogrammes))\n",
    "np.save('liste_hu_moment.npy', np.array(liste_hu_moment))\n",
    "np.save('label_images.npy', np.array(label_images))"
   ]
  },
  {
   "cell_type": "markdown",
   "metadata": {},
   "source": [
    "\n",
    "# Recherche des images les plus proches a partir d'une image"
   ]
  },
  {
   "cell_type": "code",
   "execution_count": 7,
   "metadata": {},
   "outputs": [],
   "source": [
    "# appel des caractéristiques qu'on a cree plus haut\n",
    "liste_histogrammes = np.load('liste_histogrammes.npy')\n",
    "liste_hu_moment = np.load('liste_hu_moment.npy')\n",
    "label_images = np.load('label_images.npy')"
   ]
  },
  {
   "cell_type": "code",
   "execution_count": 8,
   "metadata": {},
   "outputs": [],
   "source": [
    "w1 = 0.7\n",
    "w2 = 0.3"
   ]
  },
  {
   "cell_type": "code",
   "execution_count": 9,
   "metadata": {},
   "outputs": [
    {
     "name": "stdout",
     "output_type": "stream",
     "text": [
      "Exemple : obj1__5.png\n",
      "\n",
      "Résultats de la recherche (N=10) :\n",
      "Image \t \t \t Distance\n",
      " obj1__5.png \t \t 0.0\n",
      " obj1__10.png \t \t 422.67865314048026\n",
      " obj1__0.png \t \t 492.9648707912255\n",
      " obj1__15.png \t \t 924.9325045435414\n",
      " obj1__355.png \t \t 1190.6415524935658\n",
      " obj1__20.png \t \t 1777.4890180499847\n",
      " obj1__180.png \t \t 1928.8828990703612\n",
      " obj1__190.png \t \t 1989.9590471682534\n",
      " obj1__185.png \t \t 2047.6344290034644\n",
      " obj1__175.png \t \t 2225.5437102036117\n"
     ]
    }
   ],
   "source": [
    "# On choisit une image n'importe laquelle (\"je prends obj1__5 \")\n",
    "image_entree = \"obj1__5.png\"\n",
    "\n",
    "#j'appelle la fonction qui calcul de l'histogramme et le moment de hu pour l'image d'entree \n",
    "histogramme,hu_moment  =calcul_descripteurs('C:/Users/Administrator/TP2_SIFT/coil-100', image_entree)\n",
    "# J'implemente la fonction KDTre de SKlearn.neighbors\n",
    "tree = KDTree(liste_histogrammes, leaf_size=2)\n",
    "dist, ind = tree.query([histogramme], k=100)\n",
    "\n",
    "# Tableau contenant les distances\n",
    "liste_distances = []\n",
    "\n",
    "# Calcul des distances entre l'image d'entree et les images de toute la base\n",
    "for i in ind[0]: # on parcourt chaque image de la base\n",
    "    distance_couleur = cv2.compareHist(histogramme, liste_histogrammes[i], 1)# calcul de la distance entre l'histogramme de l'image\n",
    "    # et l'histogrammes de chaque image de la base en utilisant la methode chi_square\n",
    "    distance_forme = distance.euclidean(hu_moment, liste_hu_moment[i])# calcul de la distance entre les moments de hu de l'image \n",
    "    #d'entree et les moments de hu de chaque image de la base en utilisant la distance euclidienne.\n",
    "    distance_totale = distance_couleur * w1 + distance_forme * w2 # calcul de la distance totale en utilisant les poids W1 et W2\n",
    "    dist = [i, distance_totale] #ici je sauvegarde l'indice de chaque l'image et la distance totale correspondante \n",
    "    liste_distances.append(dist)  # ic je mets mon tableau dist dans la liste des distances\n",
    "        \n",
    "# Je trie le tableau par ordre croissant  c'est-a-dire je mets les plus petites valeurs en haut et les plus grandes en bas\n",
    "liste_distances = sorted(liste_distances, key=lambda x: x[1])\n",
    "\n",
    "print(\"Exemple : {}\".format(image_entree))\n",
    "print()\n",
    "# Ici je mets les 10 images les plus proches de l'image d'entree\n",
    "print(\"Résultats de la recherche (N=10) :\")\n",
    "print(\"Image \\t \\t \\t Distance\".format(image_entree))\n",
    "# ici je reccupere les 10 premieres images que j'ai trie et mis dans la liste_distance\n",
    "for i in liste_distances[0:10]:\n",
    "    # et la j'affiche chque image et sa distance\n",
    "      print(\" {} \\t \\t {}\".format(label_images[i[0]], i[1]))"
   ]
  },
  {
   "cell_type": "code",
   "execution_count": 10,
   "metadata": {},
   "outputs": [
    {
     "name": "stdout",
     "output_type": "stream",
     "text": [
      "Requirement already satisfied: binarytree in c:\\programdata\\anaconda3\\lib\\site-packages (6.1.0)\n",
      "Requirement already satisfied: setuptools-scm[toml]>=3.4 in c:\\programdata\\anaconda3\\lib\\site-packages (from binarytree) (5.0.1)\n",
      "Requirement already satisfied: setuptools>=42 in c:\\programdata\\anaconda3\\lib\\site-packages (from binarytree) (49.2.0.post20200714)\n",
      "Requirement already satisfied: graphviz in c:\\programdata\\anaconda3\\lib\\site-packages (from binarytree) (0.16)\n",
      "Requirement already satisfied: toml; extra == \"toml\" in c:\\programdata\\anaconda3\\lib\\site-packages (from setuptools-scm[toml]>=3.4->binarytree) (0.10.1)\n"
     ]
    }
   ],
   "source": [
    "!pip install binarytree"
   ]
  },
  {
   "cell_type": "code",
   "execution_count": null,
   "metadata": {},
   "outputs": [],
   "source": [
    "             "
   ]
  },
  {
   "cell_type": "code",
   "execution_count": null,
   "metadata": {},
   "outputs": [],
   "source": []
  },
  {
   "cell_type": "code",
   "execution_count": 11,
   "metadata": {},
   "outputs": [
    {
     "name": "stdout",
     "output_type": "stream",
     "text": [
      "Exemple : obj1__5.png\n",
      "\n",
      "Résultats de la recherche (N=10) :\n",
      "Image \t \t \t Distance\n",
      " obj1__5.png \t \t 0.0\n",
      " obj1__10.png \t \t 422.67865314048026\n",
      " obj1__0.png \t \t 492.9648707912255\n",
      " obj1__15.png \t \t 924.9325045435414\n",
      " obj1__355.png \t \t 1190.6415524935658\n",
      " obj1__20.png \t \t 1777.4890180499847\n",
      " obj1__180.png \t \t 1928.8828990703612\n",
      " obj1__190.png \t \t 1989.9590471682534\n",
      " obj1__185.png \t \t 2047.6344290034644\n",
      " obj1__175.png \t \t 2225.5437102036117\n"
     ]
    }
   ],
   "source": [
    "# On choisit une image n'importe laquelle (\"je prends obj1__5 \")\n",
    "image_entree = \"obj1__5.png\"\n",
    "\n",
    "#j'appelle la fonction qui calcul de l'histogramme et le moment de hu pour l'image d'entree \n",
    "histogramme,hu_moment  =calcul_descripteurs('C:/Users/Administrator/TP2_SIFT/coil-100', image_entree)\n",
    "\n",
    "#ici j'implemente la fonction KMeans\n",
    "kmeans = KMeans(n_clusters=10, random_state=0).fit(liste_histogrammes)\n",
    "labels = kmeans.labels_\n",
    "\n",
    "label_entree = kmeans.predict(np.array([histogramme]))\n",
    "\n",
    "\n",
    "# Tableau contenant les distances\n",
    "liste_distances = []\n",
    "\n",
    "# Calcul des distances entre l'image d'entree et les images de toute la base\n",
    "for i in range(len(labels)): # on parcourt chaque image de la base\n",
    "    if label_entree[0] == labels[i]:\n",
    "        distance_couleur = cv2.compareHist(histogramme, liste_histogrammes[i], 1)# calcul de la distance entre l'histogramme de l'image\n",
    "        # et l'histogrammes de chaque image de la base en utilisant la methode chi_square\n",
    "        distance_forme = distance.euclidean(hu_moment, liste_hu_moment[i])# calcul de la distance entre les moments de hu de l'image \n",
    "        #d'entree et les moments de hu de chaque image de la base en utilisant la distance euclidienne.\n",
    "        distance_totale = distance_couleur * w1 + distance_forme * w2 # calcul de la distance totale en utilisant les poids W1 et W2\n",
    "        dist = [i, distance_totale] #ici je sauvegarde l'indice de chaque l'image et la distance totale correspondante \n",
    "        liste_distances.append(dist)  # ic je mets mon tableau dist dans la liste des distances\n",
    "        \n",
    "# Je trie le tableau par ordre croissant  c'est-a-dire je mets les plus petites valeurs en haut et les plus grandes en bas\n",
    "liste_distances = sorted(liste_distances, key=lambda x: x[1])\n",
    "\n",
    "print(\"Exemple : {}\".format(image_entree))\n",
    "print()\n",
    "# Ici je mets les 10 images les plus proches de l'image d'entree\n",
    "print(\"Résultats de la recherche (N=10) :\")\n",
    "print(\"Image \\t \\t \\t Distance\".format(image_entree))\n",
    "# ici je reccupere les 10 premieres images que j'ai trie et mis dans la liste_distance\n",
    "for i in liste_distances[0:10]:\n",
    "    # et la j'affiche chque image et sa distance\n",
    "      print(\" {} \\t \\t {}\".format(label_images[i[0]], i[1]))"
   ]
  },
  {
   "cell_type": "code",
   "execution_count": 12,
   "metadata": {},
   "outputs": [
    {
     "name": "stdout",
     "output_type": "stream",
     "text": [
      "Requirement already satisfied: lshashpy3 in c:\\programdata\\anaconda3\\lib\\site-packages (0.0.8)Note: you may need to restart the kernel to use updated packages.\n",
      "\n"
     ]
    }
   ],
   "source": [
    "# J'installe lshashpy3 pour pouvoir utiliser la methode lsh\n",
    "pip install lshashpy3"
   ]
  },
  {
   "cell_type": "code",
   "execution_count": 13,
   "metadata": {},
   "outputs": [],
   "source": []
  },
  {
   "cell_type": "code",
   "execution_count": 16,
   "metadata": {},
   "outputs": [
    {
     "name": "stdout",
     "output_type": "stream",
     "text": [
      "Exemple : obj1__5.png\n",
      "\n",
      "Résultats de la recherche (N=10) :\n",
      "Image \t \t \t Distance\n",
      " obj1__5.png \t \t 0.0\n",
      " obj1__10.png \t \t 422.67865314048026\n",
      " obj1__0.png \t \t 492.9648707912255\n",
      " obj1__15.png \t \t 924.9325045435414\n",
      " obj1__355.png \t \t 1190.6415524935658\n",
      " obj1__180.png \t \t 1928.8828990703612\n",
      " obj1__190.png \t \t 1989.9590471682534\n",
      " obj1__185.png \t \t 2047.6344290034644\n",
      " obj1__175.png \t \t 2225.5437102036117\n",
      " obj1__195.png \t \t 3256.303069313789\n"
     ]
    }
   ],
   "source": [
    "# On choisit une image n'importe laquelle (\"je prends obj1__5 \")\n",
    "image_entree = \"obj1__5.png\"\n",
    "\n",
    "#j'appelle la fonction qui calcul de l'histogramme et le moment de hu pour l'image d'entree \n",
    "histogramme,hu_moment  =calcul_descripteurs('C:/Users/Administrator/TP2_SIFT/coil-100', image_entree)\n",
    "\n",
    "Implementation de la methode LSH\n",
    "lsh = LSHash(6, 96)\n",
    "\n",
    "# index vector\n",
    "lsh.index([i for i in range(96)]) # On note que chaque Histogramme a 96 valeurs\n",
    "\n",
    "for h in liste_histogrammes:\n",
    "    lsh.index(h)\n",
    "\n",
    "top_n = 100 #pour choisir 100 images de mon dataset\n",
    "nn = lsh.query(histogramme, num_results=top_n, distance_func=\"euclidean\")\n",
    "\n",
    "# Tableau contenant les distances\n",
    "liste_distances = []\n",
    "\n",
    "# Calcul des distances entre l'image d'entree et les images de toute la base\n",
    "data = [list(i) for i in liste_histogrammes]\n",
    "for ((vec,extra_data),dist) in nn:\n",
    "    i = data.index(list(vec))\n",
    "    distance_couleur = cv2.compareHist(histogramme, liste_histogrammes[i], 1)# calcul de la distance entre l'histogramme de l'image\n",
    "    # et l'histogrammes de chaque image de la base en utilisant la methode chi_square\n",
    "    distance_forme = distance.euclidean(hu_moment, liste_hu_moment[i])# calcul de la distance entre les moments de hu de l'image \n",
    "    #d'entree et les moments de hu de chaque image de la base en utilisant la distance euclidienne.\n",
    "    distance_totale = distance_couleur * w1 + distance_forme * w2 # calcul de la distance totale en utilisant les poids W1 et W2\n",
    "    dist = [i, distance_totale] #ici je sauvegarde l'indice de chaque l'image et la distance totale correspondante \n",
    "    liste_distances.append(dist)  # ic je mets mon tableau dist dans la liste des distances\n",
    "        \n",
    "# Je trie le tableau par ordre croissant  c'est-a-dire je mets les plus petites valeurs en haut et les plus grandes en bas\n",
    "liste_distances = sorted(liste_distances, key=lambda x: x[1])\n",
    "\n",
    "print(\"Exemple : {}\".format(image_entree))\n",
    "print()\n",
    "# Ici je mets les 10 images les plus proches de l'image d'entree\n",
    "print(\"Résultats de la recherche (N=10) :\")\n",
    "print(\"Image \\t \\t \\t Distance\".format(image_entree))\n",
    "# ici je reccupere les 10 premieres images que j'ai trie et mis dans la liste_distance\n",
    "for i in liste_distances[0:10]:\n",
    "    # et la j'affiche chque image et sa distance\n",
    "      print(\" {} \\t \\t {}\".format(label_images[i[0]], i[1]))"
   ]
  },
  {
   "cell_type": "code",
   "execution_count": null,
   "metadata": {},
   "outputs": [],
   "source": []
  },
  {
   "cell_type": "code",
   "execution_count": 18,
   "metadata": {},
   "outputs": [
    {
     "name": "stdout",
     "output_type": "stream",
     "text": [
      "La precision est : 0.9733367386029881\n"
     ]
    }
   ],
   "source": [
    "#tp = true positive, fp = false positive\n",
    "tp = 0\n",
    "fp = 0\n",
    "tree = KDTree(liste_histogrammes, leaf_size=2)\n",
    "\n",
    "for img in [f for f in os.listdir('C:/Users/Administrator/TP2_SIFT/evaluation')]:#la boucle for pour parcourir toute la base d'image\n",
    "    if img.split('.')[1] == 'png': # pour verifier que c'est une image        \n",
    "        histogramme,hu_moment  =calcul_descripteurs('C:/Users/Administrator/TP2_SIFT/coil-100', img)#j'appelle la fonction qui \n",
    "        label_image_entree = img.split('__')[0]\n",
    "\n",
    "        dist, ind = tree.query([histogramme], k=100)\n",
    "\n",
    "        # Tableau contenant les distances\n",
    "        liste_distances = []\n",
    "\n",
    "        # Calcul des distances entre l'image d'entree et les images de toute la base\n",
    "        for i in ind[0]: # on parcourt chaque image de la base\n",
    "            distance_couleur = cv2.compareHist(histogramme, liste_histogrammes[i], 1)# calcul de la distance entre l'histogramme de l'image\n",
    "            # et l'histogrammes de chaque image de la base en utilisant la methode chi_square\n",
    "            distance_forme = distance.euclidean(hu_moment, liste_hu_moment[i])# calcul de la distance entre les moments de hu de l'image \n",
    "            #d'entree et les moments de hu de chaque image de la base en utilisant la distance euclidienne.\n",
    "            distance_totale = distance_couleur * w1 + distance_forme * w2 # calcul de la distance totale en utilisant les poids W1 et W2\n",
    "            dist = [i, distance_totale] #ici je sauvegarde l'indice de chaque l'image et la distance totale correspondante \n",
    "            liste_distances.append(dist)  # ic je mets mon tableau dist dans la liste des distances\n",
    "        \n",
    "            # Je trie le tableau par ordre croissant  c'est-a-dire je mets les plus petites valeurs en haut et les plus grandes en bas\n",
    "            liste_distances = sorted(liste_distances, key=lambda x: x[1])\n",
    "           \n",
    "        # je calcule les true et false positives\n",
    "            for i in liste_distances[0:10]:\n",
    "                if label_image_entree == label_images[i[0]].split('__')[0]:\n",
    "                    tp += 1\n",
    "                else:\n",
    "                    fp += 1\n",
    "         # Je calcule la precision pour la methode KDTree           \n",
    "print('La precision est : {}'.format(tp/(tp+fp)))"
   ]
  },
  {
   "cell_type": "code",
   "execution_count": 20,
   "metadata": {},
   "outputs": [
    {
     "name": "stdout",
     "output_type": "stream",
     "text": [
      "La precision est : 0.9536585365853658\n"
     ]
    }
   ],
   "source": [
    "tp = 0\n",
    "fp = 0\n",
    "kmeans = KMeans(n_clusters=10, random_state=0).fit(liste_histogrammes)\n",
    "labels = kmeans.labels_\n",
    "\n",
    "for img in [f for f in os.listdir('C:/Users/Administrator/TP2_SIFT/evaluation')]:#la boucle for pour parcourir toute la base d'image\n",
    "    if img.split('.')[1] == 'png': # pour verifier que c'est une image        \n",
    "        histogramme,hu_moment  =calcul_descripteurs('C:/Users/Administrator/TP2_SIFT/coil-100', img)#j'appelle la fonction qui \n",
    "        label_image_entree = img.split('__')[0]\n",
    "\n",
    "        label_entree = kmeans.predict(np.array([histogramme]))\n",
    "\n",
    "\n",
    "        # Tableau contenant les distances\n",
    "        liste_distances = []\n",
    "\n",
    "        # Calcul des distances entre l'image d'entree et les images de toute la base\n",
    "        for i in range(len(labels)): # on parcourt chaque image de la base\n",
    "            if label_entree[0] == labels[i]:\n",
    "                distance_couleur = cv2.compareHist(histogramme, liste_histogrammes[i], 1)# calcul de la distance entre l'histogramme de l'image\n",
    "                # et l'histogrammes de chaque image de la base en utilisant la methode chi_square\n",
    "                distance_forme = distance.euclidean(hu_moment, liste_hu_moment[i])# calcul de la distance entre les moments de hu de l'image \n",
    "                #d'entree et les moments de hu de chaque image de la base en utilisant la distance euclidienne.\n",
    "                distance_totale = distance_couleur * w1 + distance_forme * w2 # calcul de la distance totale en utilisant les poids W1 et W2\n",
    "                dist = [i, distance_totale] #ici je sauvegarde l'indice de chaque l'image et la distance totale correspondante \n",
    "                liste_distances.append(dist)  # ic je mets mon tableau dist dans la liste des distances\n",
    "\n",
    "        # Je trie le tableau par ordre croissant  c'est-a-dire je mets les plus petites valeurs en haut et les plus grandes en bas\n",
    "        liste_distances = sorted(liste_distances, key=lambda x: x[1])\n",
    "            \n",
    "        for i in liste_distances[0:10]:\n",
    "            if label_image_entree == label_images[i[0]].split('__')[0]:\n",
    "                tp += 1\n",
    "            else:\n",
    "                fp += 1\n",
    "           \n",
    "         # Je calcule la precision pour la methode KMeans         \n",
    "print('La precision est : {}'.format(tp/(tp+fp)))"
   ]
  },
  {
   "cell_type": "code",
   "execution_count": 18,
   "metadata": {},
   "outputs": [
    {
     "name": "stdout",
     "output_type": "stream",
     "text": [
      "La precision est : 0.9240196078431373\n"
     ]
    }
   ],
   "source": [
    "tp = 0\n",
    "fp = 0\n",
    "lsh = LSHash(6, 96)\n",
    "\n",
    "# index vector\n",
    "lsh.index([i for i in range(96)])\n",
    "\n",
    "for h in liste_histogrammes:\n",
    "    lsh.index(h)\n",
    "\n",
    "top_n = 100\n",
    "\n",
    "for img in [f for f in os.listdir('C:/Users/Administrator/TP2_SIFT/evaluation')]:#la boucle for pour parcourir toute la base d'image\n",
    "    if img.split('.')[1] == 'png': # pour verifier que c'est une image        \n",
    "        histogramme,hu_moment  =calcul_descripteurs('C:/Users/Administrator/TP2_SIFT/coil-100', img)#j'appelle la fonction qui \n",
    "        label_image_entree = img.split('__')[0]\n",
    "\n",
    "        nn = lsh.query(histogramme, num_results=top_n, distance_func=\"euclidean\")\n",
    "\n",
    "        # Tableau contenant les distances\n",
    "        liste_distances = []\n",
    "\n",
    "        # Calcul des distances entre l'image d'entree et les images de toute la base\n",
    "        data = [list(i) for i in liste_histogrammes]\n",
    "        for ((vec,extra_data),dist) in nn:\n",
    "            i = data.index(list(vec))\n",
    "            distance_couleur = cv2.compareHist(histogramme, liste_histogrammes[i], 1)# calcul de la distance entre l'histogramme de l'image\n",
    "            # et l'histogrammes de chaque image de la base en utilisant la methode chi_square\n",
    "            distance_forme = distance.euclidean(hu_moment, liste_hu_moment[i])# calcul de la distance entre les moments de hu de l'image \n",
    "            #d'entree et les moments de hu de chaque image de la base en utilisant la distance euclidienne.\n",
    "            distance_totale = distance_couleur * w1 + distance_forme * w2 # calcul de la distance totale en utilisant les poids W1 et W2\n",
    "            dist = [i, distance_totale] #ici je sauvegarde l'indice de chaque l'image et la distance totale correspondante \n",
    "            liste_distances.append(dist)  # ic je mets mon tableau dist dans la liste des distances\n",
    "\n",
    "        # Je trie le tableau par ordre croissant  c'est-a-dire je mets les plus petites valeurs en haut et les plus grandes en bas\n",
    "        liste_distances = sorted(liste_distances, key=lambda x: x[1])\n",
    "            \n",
    "        for i in liste_distances[0:10]:\n",
    "            if label_image_entree == label_images[i[0]].split('__')[0]:\n",
    "                tp += 1\n",
    "            else:\n",
    "                fp += 1\n",
    "                    \n",
    "         # Je calcule la precision pour la methode LSH\n",
    "print('La precision est : {}'.format(tp/(tp+fp)))"
   ]
  },
  {
   "cell_type": "markdown",
   "metadata": {},
   "source": [
    "# En conclusion La methode KDTree donne une plus grande precision ce qui confirme que cette methode est la meilleure si on fait une recherche sur cette base d'image."
   ]
  },
  {
   "cell_type": "code",
   "execution_count": null,
   "metadata": {},
   "outputs": [],
   "source": []
  }
 ],
 "metadata": {
  "kernelspec": {
   "display_name": "Python 3",
   "language": "python",
   "name": "python3"
  },
  "language_info": {
   "codemirror_mode": {
    "name": "ipython",
    "version": 3
   },
   "file_extension": ".py",
   "mimetype": "text/x-python",
   "name": "python",
   "nbconvert_exporter": "python",
   "pygments_lexer": "ipython3",
   "version": "3.8.3"
  }
 },
 "nbformat": 4,
 "nbformat_minor": 4
}
